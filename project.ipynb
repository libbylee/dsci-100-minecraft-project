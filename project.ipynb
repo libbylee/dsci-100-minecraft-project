{
 "cells": [
  {
   "cell_type": "markdown",
   "id": "b1a08169-f4a5-463d-9d52-9dc854bb2056",
   "metadata": {},
   "source": [
    "**Can a player's age and total hours played predict whether they subscribe to a game-related newsletter?**"
   ]
  },
  {
   "cell_type": "markdown",
   "id": "06edd731-ddb6-45e7-9dbd-266ca12aa541",
   "metadata": {},
   "source": [
    "**Introduction:**\n",
    "Video games generate rich behavioural data, offering insights not only into player engagement but also into broader patterns of human-computer interaction. As gaming platforms grow in complexity, understanding user behaviour becomes increasingly valuable for server planning, targeted communication, and improving player experience. In particular, predicting which players are likely to subscribe to a game's newsletter can help game developers and researchers direct outreach efforts and resource allocation.\n",
    "\n",
    "In this project, we analyze player behaviour data collected from a Minecraft research server maintained by a computer science group at the University of British Columbia (UBC). The server tracks users' individual play sessions, allowing us to aggregate behavioural features for each player. The project’s goal is to explore whether these behavioural patterns can be used to predict which players are most likely to subscribe to a game-related newsletter. The guiding question for the project is:\n",
    "**Can a player's age and total hours played predict whether they subscribe to a game-related newsletter?** "
   ]
  },
  {
   "cell_type": "markdown",
   "id": "3e90f02e-babf-4448-aff3-df829295ab15",
   "metadata": {},
   "source": [
    "To analyze this, we will be looking at a dataset that includes the following columns:\n",
    "\n",
    "* `experience`: the player's self-reported experience level with Minecraft. It reflects how familiar or skilled they consider themselves to be (beginner, amateur, regular, veteran, pro)\n",
    "* `subscribe`: shows whether the player subscribed to a game-related newsletter\n",
    "* `hashedEmail`: represents an anonymized unique identifier for each player\n",
    "* `played_hours`: the amount of hours of the game played by the player\n",
    "* `name`: the name of the player\n",
    "* `gender`: the gender of the player (male/female)\n",
    "* `age`: the age of the player"
   ]
  },
  {
   "cell_type": "markdown",
   "id": "11c179b4-2666-4aa4-9083-5aa434fc15df",
   "metadata": {},
   "source": [
    "To begin the analysis, it is necessary to load the R packages that will be used for the analysis:"
   ]
  },
  {
   "cell_type": "code",
   "execution_count": 19,
   "id": "4f64bb82-b104-44ee-8d4c-7077577ecee4",
   "metadata": {},
   "outputs": [],
   "source": [
    "library(tidyverse)\n",
    "library(tidymodels)\n",
    "library(tidyclust)\n",
    "library(forcats)\n",
    "library(repr)\n",
    "library(themis)\n",
    "\n",
    "options(repr.matrix.max.rows = 6)"
   ]
  },
  {
   "cell_type": "markdown",
   "id": "66d6b73c-ecb0-483b-b70b-91c0337dc4bf",
   "metadata": {},
   "source": [
    "Then, I read in the players.csv data using read_csv() and assigned it to objects called players and sessions."
   ]
  },
  {
   "cell_type": "code",
   "execution_count": 20,
   "id": "6ce242b1-d159-4f28-8944-14302ab526a8",
   "metadata": {},
   "outputs": [
    {
     "name": "stderr",
     "output_type": "stream",
     "text": [
      "\u001b[1mRows: \u001b[22m\u001b[34m196\u001b[39m \u001b[1mColumns: \u001b[22m\u001b[34m7\u001b[39m\n",
      "\u001b[36m──\u001b[39m \u001b[1mColumn specification\u001b[22m \u001b[36m────────────────────────────────────────────────────────\u001b[39m\n",
      "\u001b[1mDelimiter:\u001b[22m \",\"\n",
      "\u001b[31mchr\u001b[39m (4): experience, hashedEmail, name, gender\n",
      "\u001b[32mdbl\u001b[39m (2): played_hours, Age\n",
      "\u001b[33mlgl\u001b[39m (1): subscribe\n",
      "\n",
      "\u001b[36mℹ\u001b[39m Use `spec()` to retrieve the full column specification for this data.\n",
      "\u001b[36mℹ\u001b[39m Specify the column types or set `show_col_types = FALSE` to quiet this message.\n"
     ]
    }
   ],
   "source": [
    "players <- read_csv(\"data/players.csv\")"
   ]
  },
  {
   "cell_type": "code",
   "execution_count": 7,
   "id": "630f17ff-714e-4761-9dbc-296ad5ba7af8",
   "metadata": {},
   "outputs": [
    {
     "data": {
      "text/html": [
       "<table class=\"dataframe\">\n",
       "<caption>A spec_tbl_df: 196 × 7</caption>\n",
       "<thead>\n",
       "\t<tr><th scope=col>experience</th><th scope=col>subscribe</th><th scope=col>hashedEmail</th><th scope=col>played_hours</th><th scope=col>name</th><th scope=col>gender</th><th scope=col>Age</th></tr>\n",
       "\t<tr><th scope=col>&lt;chr&gt;</th><th scope=col>&lt;lgl&gt;</th><th scope=col>&lt;chr&gt;</th><th scope=col>&lt;dbl&gt;</th><th scope=col>&lt;chr&gt;</th><th scope=col>&lt;chr&gt;</th><th scope=col>&lt;dbl&gt;</th></tr>\n",
       "</thead>\n",
       "<tbody>\n",
       "\t<tr><td>Pro    </td><td> TRUE</td><td>f6daba428a5e19a3d47574858c13550499be23603422e6a0ee9728f8b53e192d</td><td>30.3</td><td>Morgan   </td><td>Male</td><td> 9</td></tr>\n",
       "\t<tr><td>Veteran</td><td> TRUE</td><td>f3c813577c458ba0dfef80996f8f32c93b6e8af1fa939732842f2312358a88e9</td><td> 3.8</td><td>Christian</td><td>Male</td><td>17</td></tr>\n",
       "\t<tr><td>Veteran</td><td>FALSE</td><td>b674dd7ee0d24096d1c019615ce4d12b20fcbff12d79d3c5a9d2118eb7ccbb28</td><td> 0.0</td><td>Blake    </td><td>Male</td><td>17</td></tr>\n",
       "\t<tr><td>⋮</td><td>⋮</td><td>⋮</td><td>⋮</td><td>⋮</td><td>⋮</td><td>⋮</td></tr>\n",
       "\t<tr><td>Amateur</td><td>FALSE</td><td>d572f391d452b76ea2d7e5e53a3d38bfd7499c7399db299bd4fedb06a46ad5bb</td><td>0.0</td><td>Dylan </td><td>Prefer not to say</td><td>17</td></tr>\n",
       "\t<tr><td>Amateur</td><td>FALSE</td><td>f19e136ddde68f365afc860c725ccff54307dedd13968e896a9f890c40aea436</td><td>2.3</td><td>Harlow</td><td>Male             </td><td>17</td></tr>\n",
       "\t<tr><td>Pro    </td><td> TRUE</td><td>d9473710057f7d42f36570f0be83817a4eea614029ff90cf50d8889cdd729d11</td><td>0.2</td><td>Ahmed </td><td>Other            </td><td>NA</td></tr>\n",
       "</tbody>\n",
       "</table>\n"
      ],
      "text/latex": [
       "A spec\\_tbl\\_df: 196 × 7\n",
       "\\begin{tabular}{lllllll}\n",
       " experience & subscribe & hashedEmail & played\\_hours & name & gender & Age\\\\\n",
       " <chr> & <lgl> & <chr> & <dbl> & <chr> & <chr> & <dbl>\\\\\n",
       "\\hline\n",
       "\t Pro     &  TRUE & f6daba428a5e19a3d47574858c13550499be23603422e6a0ee9728f8b53e192d & 30.3 & Morgan    & Male &  9\\\\\n",
       "\t Veteran &  TRUE & f3c813577c458ba0dfef80996f8f32c93b6e8af1fa939732842f2312358a88e9 &  3.8 & Christian & Male & 17\\\\\n",
       "\t Veteran & FALSE & b674dd7ee0d24096d1c019615ce4d12b20fcbff12d79d3c5a9d2118eb7ccbb28 &  0.0 & Blake     & Male & 17\\\\\n",
       "\t ⋮ & ⋮ & ⋮ & ⋮ & ⋮ & ⋮ & ⋮\\\\\n",
       "\t Amateur & FALSE & d572f391d452b76ea2d7e5e53a3d38bfd7499c7399db299bd4fedb06a46ad5bb & 0.0 & Dylan  & Prefer not to say & 17\\\\\n",
       "\t Amateur & FALSE & f19e136ddde68f365afc860c725ccff54307dedd13968e896a9f890c40aea436 & 2.3 & Harlow & Male              & 17\\\\\n",
       "\t Pro     &  TRUE & d9473710057f7d42f36570f0be83817a4eea614029ff90cf50d8889cdd729d11 & 0.2 & Ahmed  & Other             & NA\\\\\n",
       "\\end{tabular}\n"
      ],
      "text/markdown": [
       "\n",
       "A spec_tbl_df: 196 × 7\n",
       "\n",
       "| experience &lt;chr&gt; | subscribe &lt;lgl&gt; | hashedEmail &lt;chr&gt; | played_hours &lt;dbl&gt; | name &lt;chr&gt; | gender &lt;chr&gt; | Age &lt;dbl&gt; |\n",
       "|---|---|---|---|---|---|---|\n",
       "| Pro     |  TRUE | f6daba428a5e19a3d47574858c13550499be23603422e6a0ee9728f8b53e192d | 30.3 | Morgan    | Male |  9 |\n",
       "| Veteran |  TRUE | f3c813577c458ba0dfef80996f8f32c93b6e8af1fa939732842f2312358a88e9 |  3.8 | Christian | Male | 17 |\n",
       "| Veteran | FALSE | b674dd7ee0d24096d1c019615ce4d12b20fcbff12d79d3c5a9d2118eb7ccbb28 |  0.0 | Blake     | Male | 17 |\n",
       "| ⋮ | ⋮ | ⋮ | ⋮ | ⋮ | ⋮ | ⋮ |\n",
       "| Amateur | FALSE | d572f391d452b76ea2d7e5e53a3d38bfd7499c7399db299bd4fedb06a46ad5bb | 0.0 | Dylan  | Prefer not to say | 17 |\n",
       "| Amateur | FALSE | f19e136ddde68f365afc860c725ccff54307dedd13968e896a9f890c40aea436 | 2.3 | Harlow | Male              | 17 |\n",
       "| Pro     |  TRUE | d9473710057f7d42f36570f0be83817a4eea614029ff90cf50d8889cdd729d11 | 0.2 | Ahmed  | Other             | NA |\n",
       "\n"
      ],
      "text/plain": [
       "    experience subscribe\n",
       "1   Pro         TRUE    \n",
       "2   Veteran     TRUE    \n",
       "3   Veteran    FALSE    \n",
       "⋮   ⋮          ⋮        \n",
       "194 Amateur    FALSE    \n",
       "195 Amateur    FALSE    \n",
       "196 Pro         TRUE    \n",
       "    hashedEmail                                                     \n",
       "1   f6daba428a5e19a3d47574858c13550499be23603422e6a0ee9728f8b53e192d\n",
       "2   f3c813577c458ba0dfef80996f8f32c93b6e8af1fa939732842f2312358a88e9\n",
       "3   b674dd7ee0d24096d1c019615ce4d12b20fcbff12d79d3c5a9d2118eb7ccbb28\n",
       "⋮   ⋮                                                               \n",
       "194 d572f391d452b76ea2d7e5e53a3d38bfd7499c7399db299bd4fedb06a46ad5bb\n",
       "195 f19e136ddde68f365afc860c725ccff54307dedd13968e896a9f890c40aea436\n",
       "196 d9473710057f7d42f36570f0be83817a4eea614029ff90cf50d8889cdd729d11\n",
       "    played_hours name      gender            Age\n",
       "1   30.3         Morgan    Male               9 \n",
       "2    3.8         Christian Male              17 \n",
       "3    0.0         Blake     Male              17 \n",
       "⋮   ⋮            ⋮         ⋮                 ⋮  \n",
       "194 0.0          Dylan     Prefer not to say 17 \n",
       "195 2.3          Harlow    Male              17 \n",
       "196 0.2          Ahmed     Other             NA "
      ]
     },
     "metadata": {},
     "output_type": "display_data"
    }
   ],
   "source": [
    "players"
   ]
  },
  {
   "cell_type": "markdown",
   "id": "fe08de70-b7d3-4949-8d16-3d04e6756f87",
   "metadata": {},
   "source": [
    "As we are only working with the player's experience level, total hours played, and whether they subscribed or not, I removed the other columns for analysis clarity. I then removed players with missing age or played_hours, renamed my columns and changed subscribed into a factor so analysis can be easier. "
   ]
  },
  {
   "cell_type": "code",
   "execution_count": 31,
   "id": "66365f70-70cd-4d0a-8fcb-b3987126f6b4",
   "metadata": {},
   "outputs": [
    {
     "data": {
      "text/html": [
       "<table class=\"dataframe\">\n",
       "<caption>A tibble: 194 × 3</caption>\n",
       "<thead>\n",
       "\t<tr><th scope=col>played_hours</th><th scope=col>is_subscribed</th><th scope=col>age</th></tr>\n",
       "\t<tr><th scope=col>&lt;dbl&gt;</th><th scope=col>&lt;fct&gt;</th><th scope=col>&lt;dbl&gt;</th></tr>\n",
       "</thead>\n",
       "<tbody>\n",
       "\t<tr><td>30.3</td><td>TRUE </td><td> 9</td></tr>\n",
       "\t<tr><td> 3.8</td><td>TRUE </td><td>17</td></tr>\n",
       "\t<tr><td> 0.0</td><td>FALSE</td><td>17</td></tr>\n",
       "\t<tr><td>⋮</td><td>⋮</td><td>⋮</td></tr>\n",
       "\t<tr><td>0.3</td><td>FALSE</td><td>22</td></tr>\n",
       "\t<tr><td>0.0</td><td>FALSE</td><td>17</td></tr>\n",
       "\t<tr><td>2.3</td><td>FALSE</td><td>17</td></tr>\n",
       "</tbody>\n",
       "</table>\n"
      ],
      "text/latex": [
       "A tibble: 194 × 3\n",
       "\\begin{tabular}{lll}\n",
       " played\\_hours & is\\_subscribed & age\\\\\n",
       " <dbl> & <fct> & <dbl>\\\\\n",
       "\\hline\n",
       "\t 30.3 & TRUE  &  9\\\\\n",
       "\t  3.8 & TRUE  & 17\\\\\n",
       "\t  0.0 & FALSE & 17\\\\\n",
       "\t ⋮ & ⋮ & ⋮\\\\\n",
       "\t 0.3 & FALSE & 22\\\\\n",
       "\t 0.0 & FALSE & 17\\\\\n",
       "\t 2.3 & FALSE & 17\\\\\n",
       "\\end{tabular}\n"
      ],
      "text/markdown": [
       "\n",
       "A tibble: 194 × 3\n",
       "\n",
       "| played_hours &lt;dbl&gt; | is_subscribed &lt;fct&gt; | age &lt;dbl&gt; |\n",
       "|---|---|---|\n",
       "| 30.3 | TRUE  |  9 |\n",
       "|  3.8 | TRUE  | 17 |\n",
       "|  0.0 | FALSE | 17 |\n",
       "| ⋮ | ⋮ | ⋮ |\n",
       "| 0.3 | FALSE | 22 |\n",
       "| 0.0 | FALSE | 17 |\n",
       "| 2.3 | FALSE | 17 |\n",
       "\n"
      ],
      "text/plain": [
       "    played_hours is_subscribed age\n",
       "1   30.3         TRUE           9 \n",
       "2    3.8         TRUE          17 \n",
       "3    0.0         FALSE         17 \n",
       "⋮   ⋮            ⋮             ⋮  \n",
       "192 0.3          FALSE         22 \n",
       "193 0.0          FALSE         17 \n",
       "194 2.3          FALSE         17 "
      ]
     },
     "metadata": {},
     "output_type": "display_data"
    }
   ],
   "source": [
    "players_data <- players |>\n",
    "    select(played_hours, subscribe, Age) |>\n",
    "    filter(!is.na(played_hours), !is.na(Age)) |>\n",
    "    rename(is_subscribed = subscribe, age = Age) |>\n",
    "    mutate(is_subscribed = as.factor(is_subscribed))\n",
    "\n",
    "players_data"
   ]
  },
  {
   "cell_type": "markdown",
   "id": "2f3f298b-4673-4bd4-a712-51048a2b9aa3",
   "metadata": {},
   "source": [
    "I then took this data and split it into a test and training test, using 70% of the data and then setting subscribe as the strata argument. I then tested if the number of FALSE and TRUE were balanced. There are more FALSE than TRUE, so in my recipe, I will oversample the rare class."
   ]
  },
  {
   "cell_type": "code",
   "execution_count": 32,
   "id": "d299b233-bdb5-4bb3-8428-e5c98fcfc132",
   "metadata": {},
   "outputs": [
    {
     "data": {
      "text/html": [
       "<table class=\"dataframe\">\n",
       "<caption>A tibble: 2 × 2</caption>\n",
       "<thead>\n",
       "\t<tr><th scope=col>is_subscribed</th><th scope=col>count</th></tr>\n",
       "\t<tr><th scope=col>&lt;fct&gt;</th><th scope=col>&lt;int&gt;</th></tr>\n",
       "</thead>\n",
       "<tbody>\n",
       "\t<tr><td>FALSE</td><td>36</td></tr>\n",
       "\t<tr><td>TRUE </td><td>99</td></tr>\n",
       "</tbody>\n",
       "</table>\n"
      ],
      "text/latex": [
       "A tibble: 2 × 2\n",
       "\\begin{tabular}{ll}\n",
       " is\\_subscribed & count\\\\\n",
       " <fct> & <int>\\\\\n",
       "\\hline\n",
       "\t FALSE & 36\\\\\n",
       "\t TRUE  & 99\\\\\n",
       "\\end{tabular}\n"
      ],
      "text/markdown": [
       "\n",
       "A tibble: 2 × 2\n",
       "\n",
       "| is_subscribed &lt;fct&gt; | count &lt;int&gt; |\n",
       "|---|---|\n",
       "| FALSE | 36 |\n",
       "| TRUE  | 99 |\n",
       "\n"
      ],
      "text/plain": [
       "  is_subscribed count\n",
       "1 FALSE         36   \n",
       "2 TRUE          99   "
      ]
     },
     "metadata": {},
     "output_type": "display_data"
    }
   ],
   "source": [
    "set.seed(1234) #so it can be reproduced\n",
    "\n",
    "players_split <- initial_split(players_data, prop = 0.7, strata = is_subscribed)\n",
    "players_training <- training(players_split)\n",
    "players_testing <- testing(players_split)\n",
    "\n",
    "counts <- players_training |> \n",
    "    group_by(is_subscribed) |> \n",
    "    summarize(count=n())\n",
    "\n",
    "counts"
   ]
  },
  {
   "cell_type": "markdown",
   "id": "ff1a25ba-8858-4cb9-97ef-151675274bbc",
   "metadata": {},
   "source": [
    "In order to do this, I will add an oversampling step with the step_upsample function (from the themis package) to create a recipe that includes scaled predictors."
   ]
  },
  {
   "cell_type": "code",
   "execution_count": 35,
   "id": "0543284c-c8e8-410a-acf0-3b3d4379aecc",
   "metadata": {},
   "outputs": [],
   "source": [
    "players_recipe <- recipe(is_subscribed ~ played_hours + age, data = players_training) |>\n",
    "    step_scale(all_predictors()) |>\n",
    "    step_center(all_predictors()) |>\n",
    "    step_upsample(is_subscribed, over_ratio = 1, skip = TRUE)"
   ]
  },
  {
   "cell_type": "markdown",
   "id": "d7a41a09-6b63-49a6-8e89-5fe177ee8a87",
   "metadata": {},
   "source": [
    "I then created a model specification with tuning to complete a 5-fold cross validation on it in order to find the best k value and combined the recipe, folds and model specification into a workflow analysis. I decided to test k values from 2 to 6 as more k values would be too streneous on my computer. "
   ]
  },
  {
   "cell_type": "code",
   "execution_count": 36,
   "id": "90cdd004-a3c7-493b-94ee-6d99a13ba2a5",
   "metadata": {},
   "outputs": [],
   "source": [
    "players_spec <- nearest_neighbor(weight_func = \"rectangular\", neighbors = tune()) |>\n",
    "            set_engine(\"kknn\") |>\n",
    "            set_mode(\"classification\")\n",
    "\n",
    "players_vfold <- vfold_cv(players_training, v = 5, strata = is_subscribed)\n",
    "\n",
    "players_results <- workflow() |>\n",
    "    add_recipe(players_recipe) |>\n",
    "    add_model(players_spec) |>\n",
    "    tune_grid(resamples = players_vfold, grid = tibble(neighbors = c(2,3,4,5,6))) |>\n",
    "    collect_metrics()"
   ]
  },
  {
   "cell_type": "markdown",
   "id": "4e0963db-d3ec-424d-8c27-d140087051ad",
   "metadata": {},
   "source": []
  },
  {
   "cell_type": "code",
   "execution_count": 39,
   "id": "1bb09a60-8405-4bef-ac43-bac46fcf61b0",
   "metadata": {},
   "outputs": [
    {
     "ename": "ERROR",
     "evalue": "Error in parse(text = x, srcfile = src): <text>:1:6: unexpected symbol\n1: !git status\n         ^\n",
     "output_type": "error",
     "traceback": [
      "Error in parse(text = x, srcfile = src): <text>:1:6: unexpected symbol\n1: !git status\n         ^\nTraceback:\n"
     ]
    }
   ],
   "source": []
  },
  {
   "cell_type": "code",
   "execution_count": null,
   "id": "a44a70a8-bb5c-40fe-acff-2941eb53a391",
   "metadata": {},
   "outputs": [],
   "source": []
  }
 ],
 "metadata": {
  "kernelspec": {
   "display_name": "R",
   "language": "R",
   "name": "ir"
  },
  "language_info": {
   "codemirror_mode": "r",
   "file_extension": ".r",
   "mimetype": "text/x-r-source",
   "name": "R",
   "pygments_lexer": "r",
   "version": "4.3.3"
  }
 },
 "nbformat": 4,
 "nbformat_minor": 5
}
