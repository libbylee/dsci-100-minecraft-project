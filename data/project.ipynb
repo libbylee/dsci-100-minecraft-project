{
 "cells": [
  {
   "cell_type": "code",
   "execution_count": null,
   "id": "86567049-eb20-461e-9e7b-ba8c4f1ad0f0",
   "metadata": {},
   "outputs": [],
   "source": []
  },
  {
   "cell_type": "markdown",
   "id": "b1a08169-f4a5-463d-9d52-9dc854bb2056",
   "metadata": {},
   "source": [
    "Specific Question: “Can player behavior (e.g., session frequency, time spent, actions performed) \n",
    "predict whether they subscribe to the game-related newsletter?”"
   ]
  },
  {
   "cell_type": "markdown",
   "id": "7a061dc9-3d61-4df2-84f5-a18665c8f4eb",
   "metadata": {},
   "source": [
    "binary classification problem where the response variable is newsletter subscription status, and the explanatory variables are player behaviors.\n"
   ]
  },
  {
   "cell_type": "markdown",
   "id": "06edd731-ddb6-45e7-9dbd-266ca12aa541",
   "metadata": {},
   "source": [
    "Video games generate rich behavioral data, offering insights not only into player engagement but also into broader patterns of human-computer interaction. As gaming platforms grow in complexity, understanding user behavior becomes increasingly valuable for server planning, targeted communication, and improving player experience. In particular, predicting which players are likely to subscribe to a game's newsletter can help game developers and researchers direct outreach efforts and resource allocation.\n",
    "\n",
    "In this project, we analyze player behavior data collected from a Minecraft research server maintained by a computer science group at the University of British Columbia (UBC). The server tracks individual play sessions of users, allowing us to aggregate behavioral features for each player. The project’s goal is to explore whether these behavioral patterns can be used to predict which players are most likely to subscribe to a game-related newsletter."
   ]
  },
  {
   "cell_type": "code",
   "execution_count": null,
   "id": "a7252f1a-060a-42c7-8bdf-f02442659d76",
   "metadata": {},
   "outputs": [],
   "source": [
    "Can player behavior (specifically session frequency, session duration, and total time played)\n",
    "predict whether a player subscribes to the Minecraft game newsletter?\n"
   ]
  }
 ],
 "metadata": {
  "kernelspec": {
   "display_name": "R",
   "language": "R",
   "name": "ir"
  },
  "language_info": {
   "codemirror_mode": "r",
   "file_extension": ".r",
   "mimetype": "text/x-r-source",
   "name": "R",
   "pygments_lexer": "r",
   "version": "4.3.3"
  }
 },
 "nbformat": 4,
 "nbformat_minor": 5
}
